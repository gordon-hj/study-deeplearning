{
 "cells": [
  {
   "cell_type": "code",
   "execution_count": 6,
   "id": "738d9f26",
   "metadata": {},
   "outputs": [],
   "source": [
    "from tensorflow.keras.datasets import mnist\n",
    "import numpy as np\n",
    "import matplotlib.pyplot as plt"
   ]
  },
  {
   "cell_type": "code",
   "execution_count": 51,
   "id": "6a06c25b",
   "metadata": {},
   "outputs": [
    {
     "data": {
      "text/plain": [
       "((60000, 28, 28), (60000,), (10000, 28, 28), (10000,))"
      ]
     },
     "execution_count": 51,
     "metadata": {},
     "output_type": "execute_result"
    }
   ],
   "source": [
    "# mnist 데이터셋 : 0-9 숫자 이미지, labeling 되어있음, 7만개\n",
    "# train셋(6만개)과 test셋(1만개)으로 구분이 되도록 되어있음\n",
    "(X_train, y_train), (X_test, y_test) = mnist.load_data()\n",
    "X_train.shape, y_train.shape, X_test.shape, y_test.shape"
   ]
  },
  {
   "cell_type": "code",
   "execution_count": 8,
   "id": "a04fc9d5",
   "metadata": {},
   "outputs": [
    {
     "data": {
      "image/png": "[encoded data removed]",
      "text/plain": [
       "<Figure size 640x480 with 1 Axes>"
      ]
     },
     "metadata": {},
     "output_type": "display_data"
    }
   ],
   "source": [
    "# 1번째 데이터 확인\n",
    "plt.imshow(X_train[0], cmap='Greys')\n",
    "plt.show()"
   ]
  },
  {
   "cell_type": "code",
   "execution_count": 9,
   "id": "737ce6bc",
   "metadata": {},
   "outputs": [
    {
     "data": {
      "text/plain": [
       "(28, 28)"
      ]
     },
     "execution_count": 9,
     "metadata": {},
     "output_type": "execute_result"
    }
   ],
   "source": [
    "# 데이터 구조 확인\n",
    "X_train[0].shape\n",
    "# 28 x 28 pixel grey 이미지\n",
    "# 각 픽셀은 0~255 숫자로 되어있고, 이는 검은색의 짙은 정도이다."
   ]
  },
  {
   "cell_type": "code",
   "execution_count": 35,
   "id": "f809970c",
   "metadata": {},
   "outputs": [
    {
     "name": "stdout",
     "output_type": "stream",
     "text": [
      "   0   0   0   0   0   0   0   0   0   0   0   0   0   0   0   0   0   0   0   0   0   0   0   0   0   0   0   0\n",
      "   0   0   0   0   0   0   0   0   0   0   0   0   0   0   0   0   0   0   0   0   0   0   0   0   0   0   0   0\n",
      "   0   0   0   0   0   0   0   0   0   0   0   0   0   0   0   0   0   0   0   0   0   0   0   0   0   0   0   0\n",
      "   0   0   0   0   0   0   0   0   0   0   0   0   0   0   0   0   0   0   0   0   0   0   0   0   0   0   0   0\n",
      "   0   0   0   0   0   0   0   0   0   0   0   0   0   0   0   0   0   0   0   0   0   0   0   0   0   0   0   0\n",
      "   0   0   0   0   0   0   0   0   0   0   0   0   3  18  18  18 126 136 175  26 166 255 247 127   0   0   0   0\n",
      "   0   0   0   0   0   0   0   0  30  36  94 154 170 253 253 253 253 253 225 172 253 242 195  64   0   0   0   0\n",
      "   0   0   0   0   0   0   0  49 238 253 253 253 253 253 253 253 253 251  93  82  82  56  39   0   0   0   0   0\n",
      "   0   0   0   0   0   0   0  18 219 253 253 253 253 253 198 182 247 241   0   0   0   0   0   0   0   0   0   0\n",
      "   0   0   0   0   0   0   0   0  80 156 107 253 253 205  11   0  43 154   0   0   0   0   0   0   0   0   0   0\n",
      "   0   0   0   0   0   0   0   0   0  14   1 154 253  90   0   0   0   0   0   0   0   0   0   0   0   0   0   0\n",
      "   0   0   0   0   0   0   0   0   0   0   0 139 253 190   2   0   0   0   0   0   0   0   0   0   0   0   0   0\n",
      "   0   0   0   0   0   0   0   0   0   0   0  11 190 253  70   0   0   0   0   0   0   0   0   0   0   0   0   0\n",
      "   0   0   0   0   0   0   0   0   0   0   0   0  35 241 225 160 108   1   0   0   0   0   0   0   0   0   0   0\n",
      "   0   0   0   0   0   0   0   0   0   0   0   0   0  81 240 253 253 119  25   0   0   0   0   0   0   0   0   0\n",
      "   0   0   0   0   0   0   0   0   0   0   0   0   0   0  45 186 253 253 150  27   0   0   0   0   0   0   0   0\n",
      "   0   0   0   0   0   0   0   0   0   0   0   0   0   0   0  16  93 252 253 187   0   0   0   0   0   0   0   0\n",
      "   0   0   0   0   0   0   0   0   0   0   0   0   0   0   0   0   0 249 253 249  64   0   0   0   0   0   0   0\n",
      "   0   0   0   0   0   0   0   0   0   0   0   0   0   0  46 130 183 253 253 207   2   0   0   0   0   0   0   0\n",
      "   0   0   0   0   0   0   0   0   0   0   0   0  39 148 229 253 253 253 250 182   0   0   0   0   0   0   0   0\n",
      "   0   0   0   0   0   0   0   0   0   0  24 114 221 253 253 253 253 201  78   0   0   0   0   0   0   0   0   0\n",
      "   0   0   0   0   0   0   0   0  23  66 213 253 253 253 253 198  81   2   0   0   0   0   0   0   0   0   0   0\n",
      "   0   0   0   0   0   0  18 171 219 253 253 253 253 195  80   9   0   0   0   0   0   0   0   0   0   0   0   0\n",
      "   0   0   0   0  55 172 226 253 253 253 253 244 133  11   0   0   0   0   0   0   0   0   0   0   0   0   0   0\n",
      "   0   0   0   0 136 253 253 253 212 135 132  16   0   0   0   0   0   0   0   0   0   0   0   0   0   0   0   0\n",
      "   0   0   0   0   0   0   0   0   0   0   0   0   0   0   0   0   0   0   0   0   0   0   0   0   0   0   0   0\n",
      "   0   0   0   0   0   0   0   0   0   0   0   0   0   0   0   0   0   0   0   0   0   0   0   0   0   0   0   0\n",
      "   0   0   0   0   0   0   0   0   0   0   0   0   0   0   0   0   0   0   0   0   0   0   0   0   0   0   0   0\n"
     ]
    }
   ],
   "source": [
    "# 숫자로 그림 그려보기\n",
    "pic = '\\n'.join([''.join([f'{y:4d}' for y in x]) for x in X_train[0]])\n",
    "print(pic)"
   ]
  },
  {
   "cell_type": "code",
   "execution_count": 54,
   "id": "a9562961",
   "metadata": {},
   "outputs": [
    {
     "data": {
      "text/plain": [
       "5"
      ]
     },
     "execution_count": 54,
     "metadata": {},
     "output_type": "execute_result"
    }
   ],
   "source": [
    "# 1번째 데이터의 결과 확인\n",
    "y_train[0]"
   ]
  },
  {
   "cell_type": "code",
   "execution_count": 52,
   "id": "a2b7f701",
   "metadata": {},
   "outputs": [
    {
     "name": "stdout",
     "output_type": "stream",
     "text": [
      "(60000, 28, 28) (10000, 28, 28)\n"
     ]
    },
    {
     "data": {
      "text/plain": [
       "((60000, 784), (10000, 784))"
      ]
     },
     "execution_count": 52,
     "metadata": {},
     "output_type": "execute_result"
    }
   ],
   "source": [
    "# 학습을 위해 데이터셋을 1차원으로 변경\n",
    "print(X_train.shape, X_test.shape)\n",
    "\n",
    "X_train = X_train.reshape((X_train.shape[0], -1))\n",
    "X_test = X_test.reshape((X_test.shape[0], -1))\n",
    "\n",
    "X_train.shape, X_test.shape\n",
    "# 60000 x 28 x 28 -> 60000 x 784\n",
    "# 10000 x 28 x 28 -> 10000 x 784"
   ]
  },
  {
   "cell_type": "code",
   "execution_count": 53,
   "id": "e2b1f247",
   "metadata": {},
   "outputs": [],
   "source": [
    "# 0-255 값으로 되어있는 걸 0-1 사이 숫자로 처리\n",
    "# 데이터 정규화normalization\n",
    "X_train = X_train.astype('float64') / 255\n",
    "X_test = X_test.astype('float64') / 255"
   ]
  },
  {
   "cell_type": "code",
   "execution_count": 59,
   "id": "c1e539c8",
   "metadata": {},
   "outputs": [
    {
     "name": "stdout",
     "output_type": "stream",
     "text": [
      "(60000,) (60000, 10)\n",
      "5 [0. 0. 0. 0. 0. 1. 0. 0. 0. 0.]\n"
     ]
    }
   ],
   "source": [
    "# 결과는 classfication이 가능하게, one_hot 처리\n",
    "import keras.utils.np_utils as np_utils\n",
    "\n",
    "y_train_t = np_utils.to_categorical(y_train)\n",
    "print(y_train.shape, y_train_t.shape)\n",
    "print(y_train[0], y_train_t[0])"
   ]
  },
  {
   "cell_type": "code",
   "execution_count": 64,
   "id": "e2c7e564",
   "metadata": {},
   "outputs": [
    {
     "name": "stdout",
     "output_type": "stream",
     "text": [
      "(60000,) (60000, 10)\n",
      "5 tf.Tensor([0. 0. 0. 0. 0. 1. 0. 0. 0. 0.], shape=(10,), dtype=float32)\n"
     ]
    }
   ],
   "source": [
    "# tf one_hot을 써도 같은 결과이다. (단, depth 지정이 필요)\n",
    "import tensorflow as tf\n",
    "\n",
    "y_train_t = tf.one_hot(y_train, depth=max(y_train)+1)\n",
    "print(y_train.shape, y_train_t.shape)\n",
    "print(y_train[0], y_train_t[0])"
   ]
  },
  {
   "cell_type": "code",
   "execution_count": 65,
   "id": "f9eba6cb",
   "metadata": {},
   "outputs": [],
   "source": [
    "y_train = y_train_t"
   ]
  },
  {
   "cell_type": "code",
   "execution_count": 66,
   "id": "540085c5",
   "metadata": {},
   "outputs": [
    {
     "data": {
      "text/plain": [
       "(10000, 10)"
      ]
     },
     "execution_count": 66,
     "metadata": {},
     "output_type": "execute_result"
    }
   ],
   "source": [
    "y_test = np_utils.to_categorical(y_test)"
   ]
  },
  {
   "cell_type": "markdown",
   "id": "87d2bef3",
   "metadata": {},
   "source": [
    "## 딥러닝 기본 프레임 만들기"
   ]
  },
  {
   "cell_type": "code",
   "execution_count": 75,
   "id": "fa762957",
   "metadata": {},
   "outputs": [],
   "source": [
    "from tensorflow.keras.models import Sequential\n",
    "from tensorflow.keras.layers import Dense\n",
    "\n",
    "# 모델 구성\n",
    "model = Sequential([\n",
    "    Dense(512, input_dim=784, activation='relu'),\n",
    "    Dense(10, activation='softmax')\n",
    "])\n",
    "\n",
    "model.compile(\n",
    "    loss='categorical_crossentropy',\n",
    "    optimizer='adam',\n",
    "    metrics=['accuracy']\n",
    ")"
   ]
  },
  {
   "cell_type": "code",
   "execution_count": 73,
   "id": "b4f26020",
   "metadata": {},
   "outputs": [],
   "source": [
    "from tensorflow.keras.callbacks import EarlyStopping, ModelCheckpoint\n",
    "\n",
    "# set callbacks : earlyStopping & checkpointer\n",
    "early_stopping_callback = EarlyStopping(\n",
    "    monitor='val_loss',\n",
    "    patience=20\n",
    ")\n",
    "\n",
    "modelpath = './trained_model/ch16/mnist_mlp.hdf5'\n",
    "checkpointer = ModelCheckpoint(\n",
    "    filepath=modelpath,\n",
    "    monitor='val_loss',\n",
    "    verbose=0,\n",
    "    save_best_only=True\n",
    ")"
   ]
  },
  {
   "cell_type": "code",
   "execution_count": 76,
   "id": "cecac9f4",
   "metadata": {},
   "outputs": [
    {
     "name": "stdout",
     "output_type": "stream",
     "text": [
      "313/313 [==============================] - 1s 2ms/step - loss: 0.0759 - accuracy: 0.9820\n"
     ]
    },
    {
     "data": {
      "text/plain": [
       "(0.07587548345327377, 0.9819999933242798)"
      ]
     },
     "execution_count": 76,
     "metadata": {},
     "output_type": "execute_result"
    }
   ],
   "source": [
    "# Do learning\n",
    "history = model.fit(X_train, y_train,\n",
    "                    epochs=50,\n",
    "                    batch_size=200,\n",
    "                    validation_split=0.25,\n",
    "                    callbacks=[early_stopping_callback, checkpointer],\n",
    "                    verbose=0\n",
    "                   )\n",
    "\n",
    "loss, score = model.evaluate(X_test, y_test)\n",
    "loss, score"
   ]
  },
  {
   "cell_type": "code",
   "execution_count": 78,
   "id": "4af80579",
   "metadata": {},
   "outputs": [
    {
     "data": {
      "image/png": "[encoded data removed]",
      "text/plain": [
       "<Figure size 640x480 with 1 Axes>"
      ]
     },
     "metadata": {},
     "output_type": "display_data"
    }
   ],
   "source": [
    "import matplotlib.pyplot as plt\n",
    "\n",
    "# 오차 그래프 확인\n",
    "y_vloss = history.history['val_loss']\n",
    "y_loss = history.history['loss']\n",
    "x_len = np.arange(len(y_loss))\n",
    "\n",
    "plt.plot(x_len, y_vloss, marker='.', c='red', label='testset_loss')\n",
    "plt.plot(x_len, y_loss, marker='.', c='blue', label='trainset_loss')\n",
    "\n",
    "plt.legend(loc='upper right')\n",
    "plt.grid()\n",
    "plt.xlabel('epoch')\n",
    "plt.ylabel('loss')\n",
    "plt.show()"
   ]
  },
  {
   "cell_type": "markdown",
   "id": "73bffd77",
   "metadata": {},
   "source": [
    "## CNN"
   ]
  },
  {
   "cell_type": "code",
   "execution_count": null,
   "id": "806d6e02",
   "metadata": {},
   "outputs": [],
   "source": [
    "# Conv2D(32, kerner_size=(3,3), input_shape=(28, 28, 1), activation='relu')\n",
    "\"\"\"\n",
    "conv 2d 레이어\n",
    "32개 노드\n",
    "kernel_size : 묶을 윈도우 사이즈 3x3 픽셀을 한 값으로 묶는다.\n",
    "input_shape : 입력 형태, 1D로 reshape하지 않은, 2D를 넣는다(kerneling 해야하므로)\n",
    "+ 마지막 인자는 색상 여부(1: 흑백, 3: 컬러)\n",
    "활성 함수 : Relu\n",
    "\"\"\""
   ]
  },
  {
   "cell_type": "code",
   "execution_count": null,
   "id": "ef7a2238",
   "metadata": {},
   "outputs": [],
   "source": [
    "# MaxPooling2D(pool_size=(2,2))\n",
    "\"\"\"\n",
    "pool size 윈도우 만큼 뽑아내기\n",
    "\"\"\""
   ]
  },
  {
   "cell_type": "code",
   "execution_count": null,
   "id": "2f3529c0",
   "metadata": {},
   "outputs": [],
   "source": [
    "# Dropout(0.25)\n",
    "\"\"\"\n",
    "랜덤하게 꺼버릴 노드 비율\n",
    "\"\"\"\n",
    "# Flatten\n",
    "\"\"\"\n",
    "2차원 -> 1차원\n",
    "\"\"\""
   ]
  },
  {
   "cell_type": "markdown",
   "id": "440d73fb",
   "metadata": {},
   "source": [
    "# CNN 이용한 학습 재구성"
   ]
  },
  {
   "cell_type": "code",
   "execution_count": 6,
   "id": "c2659fa4",
   "metadata": {},
   "outputs": [],
   "source": [
    "from tensorflow.keras.datasets import mnist\n",
    "from tensorflow.keras.models import Sequential\n",
    "from tensorflow.keras.layers import Dense, Conv2D, MaxPooling2D, Dropout, Flatten\n",
    "from tensorflow.keras.callbacks import EarlyStopping, ModelCheckpoint\n",
    "from tensorflow.keras.utils import to_categorical\n",
    "\n",
    "import numpy as np\n",
    "import matplotlib.pyplot as plt"
   ]
  },
  {
   "cell_type": "code",
   "execution_count": 17,
   "id": "62e5199e",
   "metadata": {},
   "outputs": [
    {
     "name": "stdout",
     "output_type": "stream",
     "text": [
      "Epoch 1/50\n",
      "225/225 [==============================] - 34s 145ms/step - loss: 0.3322 - accuracy: 0.8984 - val_loss: 0.0852 - val_accuracy: 0.9749\n",
      "Epoch 2/50\n",
      "225/225 [==============================] - 31s 138ms/step - loss: 0.1109 - accuracy: 0.9671 - val_loss: 0.0598 - val_accuracy: 0.9820\n",
      "Epoch 3/50\n",
      "225/225 [==============================] - 32s 142ms/step - loss: 0.0781 - accuracy: 0.9758 - val_loss: 0.0499 - val_accuracy: 0.9839\n",
      "Epoch 4/50\n",
      "225/225 [==============================] - 32s 143ms/step - loss: 0.0644 - accuracy: 0.9815 - val_loss: 0.0462 - val_accuracy: 0.9865\n",
      "Epoch 5/50\n",
      "225/225 [==============================] - 33s 148ms/step - loss: 0.0532 - accuracy: 0.9836 - val_loss: 0.0430 - val_accuracy: 0.9877\n",
      "Epoch 6/50\n",
      "225/225 [==============================] - 33s 146ms/step - loss: 0.0429 - accuracy: 0.9866 - val_loss: 0.0445 - val_accuracy: 0.9870\n",
      "Epoch 7/50\n",
      "225/225 [==============================] - 34s 149ms/step - loss: 0.0416 - accuracy: 0.9868 - val_loss: 0.0411 - val_accuracy: 0.9885\n",
      "Epoch 8/50\n",
      "225/225 [==============================] - 34s 151ms/step - loss: 0.0368 - accuracy: 0.9878 - val_loss: 0.0462 - val_accuracy: 0.9877\n",
      "Epoch 9/50\n",
      "225/225 [==============================] - 38s 169ms/step - loss: 0.0327 - accuracy: 0.9896 - val_loss: 0.0400 - val_accuracy: 0.9892\n",
      "Epoch 10/50\n",
      "225/225 [==============================] - 34s 152ms/step - loss: 0.0307 - accuracy: 0.9900 - val_loss: 0.0452 - val_accuracy: 0.9876\n",
      "Epoch 11/50\n",
      "225/225 [==============================] - 32s 143ms/step - loss: 0.0285 - accuracy: 0.9910 - val_loss: 0.0392 - val_accuracy: 0.9891\n",
      "Epoch 12/50\n",
      "225/225 [==============================] - 31s 137ms/step - loss: 0.0243 - accuracy: 0.9920 - val_loss: 0.0425 - val_accuracy: 0.9897\n",
      "Epoch 13/50\n",
      "225/225 [==============================] - 34s 151ms/step - loss: 0.0236 - accuracy: 0.9921 - val_loss: 0.0392 - val_accuracy: 0.9897\n",
      "Epoch 14/50\n",
      "225/225 [==============================] - 34s 153ms/step - loss: 0.0209 - accuracy: 0.9930 - val_loss: 0.0419 - val_accuracy: 0.9890\n",
      "Epoch 15/50\n",
      "225/225 [==============================] - 32s 142ms/step - loss: 0.0195 - accuracy: 0.9931 - val_loss: 0.0432 - val_accuracy: 0.9890\n",
      "Epoch 16/50\n",
      "225/225 [==============================] - 30s 132ms/step - loss: 0.0202 - accuracy: 0.9932 - val_loss: 0.0483 - val_accuracy: 0.9883\n",
      "Epoch 17/50\n",
      "225/225 [==============================] - 28s 123ms/step - loss: 0.0188 - accuracy: 0.9934 - val_loss: 0.0490 - val_accuracy: 0.9900\n",
      "Epoch 18/50\n",
      "225/225 [==============================] - 29s 128ms/step - loss: 0.0173 - accuracy: 0.9941 - val_loss: 0.0458 - val_accuracy: 0.9894\n",
      "Epoch 19/50\n",
      "225/225 [==============================] - 31s 136ms/step - loss: 0.0159 - accuracy: 0.9944 - val_loss: 0.0432 - val_accuracy: 0.9904\n",
      "Epoch 20/50\n",
      "225/225 [==============================] - 35s 155ms/step - loss: 0.0162 - accuracy: 0.9947 - val_loss: 0.0427 - val_accuracy: 0.9897\n",
      "Epoch 21/50\n",
      "225/225 [==============================] - 30s 132ms/step - loss: 0.0145 - accuracy: 0.9949 - val_loss: 0.0443 - val_accuracy: 0.9905\n",
      "313/313 [==============================] - 3s 8ms/step - loss: 0.0339 - accuracy: 0.9910\n",
      "loss, score 0.033947184681892395 0.9909999966621399\n"
     ]
    },
    {
     "data": {
      "image/png": "[encoded data removed]",
      "text/plain": [
       "<Figure size 640x480 with 1 Axes>"
      ]
     },
     "metadata": {},
     "output_type": "display_data"
    }
   ],
   "source": [
    "# 데이터 전처리\n",
    "(X_train, y_train), (X_test, y_test) = mnist.load_data()\n",
    "\n",
    "X_train = X_train.reshape(X_train.shape[0], 28, 28, 1).astype('float32') / 255\n",
    "X_test = X_test.reshape(X_test.shape[0], 28, 28, 1).astype('float32') / 255\n",
    "\n",
    "y_train = to_categorical(y_train)\n",
    "y_test = to_categorical(y_test)\n",
    "\n",
    "\n",
    "# 모델 구성\n",
    "model = Sequential([\n",
    "    Conv2D(32, kernel_size=(3,3), input_shape=(28, 28, 1), activation='relu'),\n",
    "    Conv2D(64, (3,3), activation='relu'), # kernel_size는 2번째로 오면 name 생략가능\n",
    "    MaxPooling2D(pool_size=(2,2)),\n",
    "    Dropout(0.25),\n",
    "    Flatten(),\n",
    "    Dense(128, activation='relu'),\n",
    "    Dropout(0.5),\n",
    "    Dense(10, activation='softmax')\n",
    "])\n",
    "\n",
    "model.compile(\n",
    "    loss='categorical_crossentropy',\n",
    "    optimizer='adam',\n",
    "    metrics=['accuracy']\n",
    ")\n",
    "\n",
    "\n",
    "# set callbacks : earlyStopping & checkpointer\n",
    "early_stopping_callback = EarlyStopping(\n",
    "    monitor='val_loss',\n",
    "    patience=10\n",
    ")\n",
    "\n",
    "modelpath = './trained_model/ch16/mnist_cnn.hdf5'\n",
    "checkpointer = ModelCheckpoint(\n",
    "    filepath=modelpath,\n",
    "    monitor='val_loss',\n",
    "    verbose=0,\n",
    "    save_best_only=True\n",
    ")\n",
    "\n",
    "# Do learning\n",
    "history = model.fit(X_train, y_train,\n",
    "                    epochs=50,\n",
    "                    batch_size=200,\n",
    "                    validation_split=0.25,\n",
    "                    callbacks=[early_stopping_callback, checkpointer],\n",
    "                    verbose=1\n",
    "                   )\n",
    "\n",
    "loss, score = model.evaluate(X_test, y_test)\n",
    "print(\"loss, score\", loss, score)\n",
    "\n",
    "# 오차 그래프 확인\n",
    "y_vloss = history.history['val_loss']\n",
    "y_loss = history.history['loss']\n",
    "x_len = np.arange(len(y_loss))\n",
    "\n",
    "plt.plot(x_len, y_vloss, marker='.', c='red', label='testset_loss')\n",
    "plt.plot(x_len, y_loss, marker='.', c='blue', label='trainset_loss')\n",
    "\n",
    "plt.legend(loc='upper right')\n",
    "plt.grid()\n",
    "plt.xlabel('epoch')\n",
    "plt.ylabel('loss')\n",
    "plt.show()"
   ]
  },
  {
   "cell_type": "code",
   "execution_count": null,
   "id": "7e3de2c5",
   "metadata": {},
   "outputs": [],
   "source": []
  },
  {
   "cell_type": "code",
   "execution_count": null,
   "id": "40d7cd44",
   "metadata": {},
   "outputs": [],
   "source": []
  },
  {
   "cell_type": "code",
   "execution_count": null,
   "id": "4ab3ac29",
   "metadata": {},
   "outputs": [],
   "source": []
  },
  {
   "cell_type": "code",
   "execution_count": null,
   "id": "592cd178",
   "metadata": {},
   "outputs": [],
   "source": []
  },
  {
   "cell_type": "code",
   "execution_count": null,
   "id": "09845cce",
   "metadata": {},
   "outputs": [],
   "source": []
  },
  {
   "cell_type": "code",
   "execution_count": null,
   "id": "3abc34cf",
   "metadata": {},
   "outputs": [],
   "source": []
  },
  {
   "cell_type": "code",
   "execution_count": null,
   "id": "452550a2",
   "metadata": {},
   "outputs": [],
   "source": []
  },
  {
   "cell_type": "code",
   "execution_count": null,
   "id": "eed117b8",
   "metadata": {},
   "outputs": [],
   "source": []
  },
  {
   "cell_type": "code",
   "execution_count": null,
   "id": "082fda8b",
   "metadata": {},
   "outputs": [],
   "source": []
  }
 ],
 "metadata": {
  "kernelspec": {
   "display_name": "Python 3 (ipykernel)",
   "language": "python",
   "name": "python3"
  },
  "language_info": {
   "codemirror_mode": {
    "name": "ipython",
    "version": 3
   },
   "file_extension": ".py",
   "mimetype": "text/x-python",
   "name": "python",
   "nbconvert_exporter": "python",
   "pygments_lexer": "ipython3",
   "version": "3.9.6"
  }
 },
 "nbformat": 4,
 "nbformat_minor": 5
}
