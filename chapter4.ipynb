{
 "cells": [
  {
   "cell_type": "markdown",
   "id": "0224d8ff",
   "metadata": {},
   "source": [
    "# 최소제곱법"
   ]
  },
  {
   "cell_type": "markdown",
   "id": "c84f02d2",
   "metadata": {},
   "source": [
    "## import library(numpy)"
   ]
  },
  {
   "cell_type": "code",
   "execution_count": 1,
   "id": "1706975f",
   "metadata": {},
   "outputs": [],
   "source": [
    "import numpy as np"
   ]
  },
  {
   "cell_type": "markdown",
   "id": "3f3c1e23",
   "metadata": {},
   "source": [
    "## test data set"
   ]
  },
  {
   "cell_type": "code",
   "execution_count": 3,
   "id": "0636ce47",
   "metadata": {},
   "outputs": [
    {
     "data": {
      "text/plain": [
       "(array([2, 4, 6, 8]), array([81, 93, 91, 97]))"
      ]
     },
     "execution_count": 3,
     "metadata": {},
     "output_type": "execute_result"
    }
   ],
   "source": [
    "x = np.array([2, 4, 6, 8])\n",
    "y = np.array([81, 93, 91, 97]) \n",
    "x, y"
   ]
  },
  {
   "cell_type": "markdown",
   "id": "9a899254",
   "metadata": {},
   "source": [
    "### calculate avg(x), avg(y)"
   ]
  },
  {
   "cell_type": "code",
   "execution_count": 10,
   "id": "e7841e36",
   "metadata": {
    "scrolled": true
   },
   "outputs": [
    {
     "data": {
      "text/plain": [
       "(5.0, 90.5)"
      ]
     },
     "execution_count": 10,
     "metadata": {},
     "output_type": "execute_result"
    }
   ],
   "source": [
    "avg_x = np.average(x)\n",
    "avg_y = np.average(y)\n",
    "avg_x, avg_y"
   ]
  },
  {
   "cell_type": "markdown",
   "id": "884dd7ee",
   "metadata": {},
   "source": [
    "### calculate a"
   ]
  },
  {
   "cell_type": "code",
   "execution_count": 7,
   "id": "f17e9483",
   "metadata": {},
   "outputs": [
    {
     "data": {
      "text/plain": [
       "2.3"
      ]
     },
     "execution_count": 7,
     "metadata": {},
     "output_type": "execute_result"
    }
   ],
   "source": [
    "a = np.sum((x-avg_x)*(y-avg_y)) / np.sum((x-avg_x)**2)\n",
    "a"
   ]
  },
  {
   "cell_type": "markdown",
   "id": "8848e471",
   "metadata": {},
   "source": [
    "### calculate b"
   ]
  },
  {
   "cell_type": "code",
   "execution_count": 9,
   "id": "f1a73787",
   "metadata": {},
   "outputs": [
    {
     "data": {
      "text/plain": [
       "79.0"
      ]
     },
     "execution_count": 9,
     "metadata": {},
     "output_type": "execute_result"
    }
   ],
   "source": [
    "b = avg_y - (avg_x * a)\n",
    "b"
   ]
  },
  {
   "cell_type": "markdown",
   "id": "af1e3353",
   "metadata": {},
   "source": [
    "# 평균제곱오차"
   ]
  },
  {
   "cell_type": "markdown",
   "id": "f660baec",
   "metadata": {},
   "source": [
    "## 최초 추정 함수"
   ]
  },
  {
   "cell_type": "code",
   "execution_count": 13,
   "id": "2fe7f09b",
   "metadata": {},
   "outputs": [
    {
     "data": {
      "text/plain": [
       "(3, 76)"
      ]
     },
     "execution_count": 13,
     "metadata": {},
     "output_type": "execute_result"
    }
   ],
   "source": [
    "init_a = 3\n",
    "init_b = 76\n",
    "init_a, init_b"
   ]
  },
  {
   "cell_type": "markdown",
   "id": "16b12ab8",
   "metadata": {},
   "source": [
    "### predicted y by init"
   ]
  },
  {
   "cell_type": "code",
   "execution_count": 14,
   "id": "c755daec",
   "metadata": {},
   "outputs": [
    {
     "data": {
      "text/plain": [
       "array([ 82,  88,  94, 100])"
      ]
     },
     "execution_count": 14,
     "metadata": {},
     "output_type": "execute_result"
    }
   ],
   "source": [
    "predicted = init_a * x + init_b\n",
    "predicted"
   ]
  },
  {
   "cell_type": "markdown",
   "id": "399b8a8b",
   "metadata": {},
   "source": [
    "### calculate MSE"
   ]
  },
  {
   "cell_type": "code",
   "execution_count": 16,
   "id": "5cfd8ee3",
   "metadata": {},
   "outputs": [
    {
     "data": {
      "text/plain": [
       "11.0"
      ]
     },
     "execution_count": 16,
     "metadata": {},
     "output_type": "execute_result"
    }
   ],
   "source": [
    "MSE = 1 / len(x) * np.sum((y - predicted)**2)\n",
    "MSE"
   ]
  },
  {
   "cell_type": "code",
   "execution_count": null,
   "id": "fc827d50",
   "metadata": {},
   "outputs": [],
   "source": []
  },
  {
   "cell_type": "code",
   "execution_count": null,
   "id": "ac539ad5",
   "metadata": {},
   "outputs": [],
   "source": []
  },
  {
   "cell_type": "code",
   "execution_count": null,
   "id": "1a3b788b",
   "metadata": {},
   "outputs": [],
   "source": []
  },
  {
   "cell_type": "code",
   "execution_count": null,
   "id": "833096d9",
   "metadata": {},
   "outputs": [],
   "source": []
  }
 ],
 "metadata": {
  "kernelspec": {
   "display_name": "Python 3 (ipykernel)",
   "language": "python",
   "name": "python3"
  },
  "language_info": {
   "codemirror_mode": {
    "name": "ipython",
    "version": 3
   },
   "file_extension": ".py",
   "mimetype": "text/x-python",
   "name": "python",
   "nbconvert_exporter": "python",
   "pygments_lexer": "ipython3",
   "version": "3.9.6"
  }
 },
 "nbformat": 4,
 "nbformat_minor": 5
}
